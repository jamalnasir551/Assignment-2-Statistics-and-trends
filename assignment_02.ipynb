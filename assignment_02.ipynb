{
 "cells": [
  {
   "cell_type": "code",
   "execution_count": 111,
   "metadata": {},
   "outputs": [
    {
     "ename": "ValueError",
     "evalue": "Cannot take a larger sample than population when 'replace=False'",
     "output_type": "error",
     "traceback": [
      "\u001b[1;31m---------------------------------------------------------------------------\u001b[0m",
      "\u001b[1;31mValueError\u001b[0m                                Traceback (most recent call last)",
      "\u001b[1;32mc:\\Users\\Afnan Qaim\\Desktop\\assignment_2\\assignment_02.ipynb Cell 1\u001b[0m line \u001b[0;36m1\n\u001b[0;32m      <a href='vscode-notebook-cell:/c%3A/Users/Afnan%20Qaim/Desktop/assignment_2/assignment_02.ipynb#W0sZmlsZQ%3D%3D?line=6'>7</a>\u001b[0m dfs \u001b[39m=\u001b[39m [pd\u001b[39m.\u001b[39mread_csv(file, encoding\u001b[39m=\u001b[39m\u001b[39m'\u001b[39m\u001b[39mlatin-1\u001b[39m\u001b[39m'\u001b[39m) \u001b[39mfor\u001b[39;00m file \u001b[39min\u001b[39;00m file_names]\n\u001b[0;32m      <a href='vscode-notebook-cell:/c%3A/Users/Afnan%20Qaim/Desktop/assignment_2/assignment_02.ipynb#W0sZmlsZQ%3D%3D?line=8'>9</a>\u001b[0m \u001b[39m# Determine the random indices (common for all files)\u001b[39;00m\n\u001b[1;32m---> <a href='vscode-notebook-cell:/c%3A/Users/Afnan%20Qaim/Desktop/assignment_2/assignment_02.ipynb#W0sZmlsZQ%3D%3D?line=9'>10</a>\u001b[0m random_indices \u001b[39m=\u001b[39m dfs[\u001b[39m0\u001b[39;49m][\u001b[39m'\u001b[39;49m\u001b[39mCountry Name\u001b[39;49m\u001b[39m'\u001b[39;49m]\u001b[39m.\u001b[39;49msample(\u001b[39m6\u001b[39;49m)\u001b[39m.\u001b[39mindex\n\u001b[0;32m     <a href='vscode-notebook-cell:/c%3A/Users/Afnan%20Qaim/Desktop/assignment_2/assignment_02.ipynb#W0sZmlsZQ%3D%3D?line=11'>12</a>\u001b[0m \u001b[39m# Save selected rows from each file into different output files\u001b[39;00m\n\u001b[0;32m     <a href='vscode-notebook-cell:/c%3A/Users/Afnan%20Qaim/Desktop/assignment_2/assignment_02.ipynb#W0sZmlsZQ%3D%3D?line=12'>13</a>\u001b[0m x \u001b[39m=\u001b[39m \u001b[39m0\u001b[39m\n",
      "File \u001b[1;32mc:\\Users\\Afnan Qaim\\AppData\\Local\\Programs\\Python\\Python310\\lib\\site-packages\\pandas\\core\\generic.py:6029\u001b[0m, in \u001b[0;36mNDFrame.sample\u001b[1;34m(self, n, frac, replace, weights, random_state, axis, ignore_index)\u001b[0m\n\u001b[0;32m   6026\u001b[0m \u001b[39mif\u001b[39;00m weights \u001b[39mis\u001b[39;00m \u001b[39mnot\u001b[39;00m \u001b[39mNone\u001b[39;00m:\n\u001b[0;32m   6027\u001b[0m     weights \u001b[39m=\u001b[39m sample\u001b[39m.\u001b[39mpreprocess_weights(\u001b[39mself\u001b[39m, weights, axis)\n\u001b[1;32m-> 6029\u001b[0m sampled_indices \u001b[39m=\u001b[39m sample\u001b[39m.\u001b[39;49msample(obj_len, size, replace, weights, rs)\n\u001b[0;32m   6030\u001b[0m result \u001b[39m=\u001b[39m \u001b[39mself\u001b[39m\u001b[39m.\u001b[39mtake(sampled_indices, axis\u001b[39m=\u001b[39maxis)\n\u001b[0;32m   6032\u001b[0m \u001b[39mif\u001b[39;00m ignore_index:\n",
      "File \u001b[1;32mc:\\Users\\Afnan Qaim\\AppData\\Local\\Programs\\Python\\Python310\\lib\\site-packages\\pandas\\core\\sample.py:152\u001b[0m, in \u001b[0;36msample\u001b[1;34m(obj_len, size, replace, weights, random_state)\u001b[0m\n\u001b[0;32m    149\u001b[0m     \u001b[39melse\u001b[39;00m:\n\u001b[0;32m    150\u001b[0m         \u001b[39mraise\u001b[39;00m \u001b[39mValueError\u001b[39;00m(\u001b[39m\"\u001b[39m\u001b[39mInvalid weights: weights sum to zero\u001b[39m\u001b[39m\"\u001b[39m)\n\u001b[1;32m--> 152\u001b[0m \u001b[39mreturn\u001b[39;00m random_state\u001b[39m.\u001b[39;49mchoice(obj_len, size\u001b[39m=\u001b[39;49msize, replace\u001b[39m=\u001b[39;49mreplace, p\u001b[39m=\u001b[39;49mweights)\u001b[39m.\u001b[39mastype(\n\u001b[0;32m    153\u001b[0m     np\u001b[39m.\u001b[39mintp, copy\u001b[39m=\u001b[39m\u001b[39mFalse\u001b[39;00m\n\u001b[0;32m    154\u001b[0m )\n",
      "File \u001b[1;32mnumpy\\\\random\\\\mtrand.pyx:1000\u001b[0m, in \u001b[0;36mnumpy.random.mtrand.RandomState.choice\u001b[1;34m()\u001b[0m\n",
      "\u001b[1;31mValueError\u001b[0m: Cannot take a larger sample than population when 'replace=False'"
     ]
    }
   ],
   "source": [
    "import pandas as pd\n",
    "\n",
    "# List of file names\n",
    "file_names = ['forest_land.csv','arable_land.csv', 'GDP.csv', 'CO2.csv']  # Add your file names\n",
    "\n",
    "# Read the data from each file\n",
    "dfs = [pd.read_csv(file, encoding='latin-1') for file in file_names]\n",
    "\n",
    "# Determine the random indices (common for all files)\n",
    "random_indices = dfs[0]['Country Name'].sample(4).index\n",
    "\n",
    "# Save selected rows from each file into different output files\n",
    "x = 0\n",
    "for i, df in enumerate(dfs) :\n",
    "    \n",
    "    selected_rows = df.loc[random_indices]\n",
    "    a = file_names[x]\n",
    "    output_file = f'{a}'  # Unique output file name\n",
    "    selected_rows.to_csv(output_file, index=False)\n",
    "    print(f\"Selected Rows from File {i + 1} Saved to: {output_file}\")\n",
    "    x= x+1\n"
   ]
  },
  {
   "cell_type": "code",
   "execution_count": 98,
   "metadata": {},
   "outputs": [
    {
     "data": {
      "text/plain": [
       "['Myanmar',\n",
       " 'Equatorial Guinea',\n",
       " nan,\n",
       " 'Kiribati',\n",
       " 'St. Martin (French part)',\n",
       " 'Middle East & North Africa (IDA & IBRD countries)',\n",
       " 'Uganda',\n",
       " 'Burundi',\n",
       " 'Sierra Leone',\n",
       " 'Maldives']"
      ]
     },
     "execution_count": 98,
     "metadata": {},
     "output_type": "execute_result"
    }
   ],
   "source": [
    "a = dfs[0]['Country Name'].sample(10)\n",
    "country_name = []\n",
    "for name in a:\n",
    "    country_name.append(name)\n",
    "\n",
    "country_name"
   ]
  },
  {
   "cell_type": "code",
   "execution_count": 104,
   "metadata": {},
   "outputs": [
    {
     "name": "stdout",
     "output_type": "stream",
     "text": [
      "DataFrame after removing specified columns and filling NaN values with the mean:\n",
      "          Country Name  1990 [YR1990]  2000 [YR2000]  2015 [YR2015]  \\\n",
      "0              Albania   11181.074270    8163.977582    9408.765344   \n",
      "2              Armenia   24389.028250    5990.512959    9155.783080   \n",
      "3  Antigua and Barbuda     358.408496     584.648482    1085.816188   \n",
      "\n",
      "   2020 [YR2020]  \n",
      "0    8304.294940  \n",
      "2   10422.041170  \n",
      "3    1203.631334  \n",
      "\n",
      "Transposed DataFrame:\n",
      "Country Name        Albania       Armenia  Antigua and Barbuda\n",
      "1990 [YR1990]  11181.074270  24389.028250           358.408496\n",
      "2000 [YR2000]   8163.977582   5990.512959           584.648482\n",
      "2015 [YR2015]   9408.765344   9155.783080          1085.816188\n",
      "2020 [YR2020]   8304.294940  10422.041170          1203.631334\n"
     ]
    }
   ],
   "source": [
    "import pandas as pd\n",
    "import numpy as np\n",
    "\n",
    "def read_preprocess_and_transpose(filename):\n",
    "    \"\"\"\n",
    "    Reads, preprocesses, and transposes a World Bank format CSV file.\n",
    "\n",
    "    Parameters:\n",
    "        filename (str): The name of the CSV file.\n",
    "\n",
    "    Returns:\n",
    "        pd.DataFrame: The DataFrame after preprocessing.\n",
    "        pd.DataFrame: The transposed DataFrame.\n",
    "    \"\"\"\n",
    "    try:\n",
    "        # Read the CSV file into a DataFrame\n",
    "        df = pd.read_csv(filename, encoding='latin-1', na_values=['..'])  # Adjust encoding if needed\n",
    "\n",
    "        # Specify the columns to be removed\n",
    "        columns_to_remove = ['Series Name', 'Series Code', 'Country Code','2013 [YR2013]',\t'2014 [YR2014]','2016 [YR2016]',\t'2017 [YR2017]','2018 [YR2018]',\t'2019 [YR2019]', '2021 [YR2021]', '2022 [YR2022]']\n",
    "\n",
    "        # Remove the specified columns\n",
    "        df = df.drop(columns=columns_to_remove, errors='ignore')\n",
    "\n",
    "        # Remove rows with NaN values\n",
    "        df = df.dropna()\n",
    "\n",
    "        # Transpose the DataFrame\n",
    "        transposed_df = df.set_index('Country Name').transpose()\n",
    "\n",
    "        # Fill NaN values with the mean of each column\n",
    "        transposed_df = transposed_df.apply(pd.to_numeric, errors='coerce')\n",
    "        transposed_df = transposed_df.apply(lambda col: col.fillna(col.mean()))\n",
    "\n",
    "        return df, transposed_df\n",
    "\n",
    "    except Exception as e:\n",
    "        print(f\"Error reading or processing CSV file: {e}\")\n",
    "        return None, None\n",
    "\n",
    "# Example usage:\n",
    "filename = 'CO2.csv'  # Replace with the actual file name\n",
    "df, df_transposed = read_preprocess_and_transpose(filename)\n",
    "\n",
    "if df is not None and df_transposed is not None:\n",
    "    print(\"DataFrame after removing specified columns and filling NaN values with the mean:\")\n",
    "    print(df)\n",
    "    print(\"\\nTransposed DataFrame:\")\n",
    "    print(df_transposed)\n",
    "else:\n",
    "    print(\"Failed to read or process the CSV file.\")\n"
   ]
  },
  {
   "cell_type": "code",
   "execution_count": 105,
   "metadata": {},
   "outputs": [
    {
     "data": {
      "text/html": [
       "<div>\n",
       "<style scoped>\n",
       "    .dataframe tbody tr th:only-of-type {\n",
       "        vertical-align: middle;\n",
       "    }\n",
       "\n",
       "    .dataframe tbody tr th {\n",
       "        vertical-align: top;\n",
       "    }\n",
       "\n",
       "    .dataframe thead th {\n",
       "        text-align: right;\n",
       "    }\n",
       "</style>\n",
       "<table border=\"1\" class=\"dataframe\">\n",
       "  <thead>\n",
       "    <tr style=\"text-align: right;\">\n",
       "      <th></th>\n",
       "      <th>Country Name</th>\n",
       "      <th>1990 [YR1990]</th>\n",
       "      <th>2000 [YR2000]</th>\n",
       "      <th>2015 [YR2015]</th>\n",
       "      <th>2020 [YR2020]</th>\n",
       "    </tr>\n",
       "  </thead>\n",
       "  <tbody>\n",
       "    <tr>\n",
       "      <th>0</th>\n",
       "      <td>Albania</td>\n",
       "      <td>11181.074270</td>\n",
       "      <td>8163.977582</td>\n",
       "      <td>9408.765344</td>\n",
       "      <td>8304.294940</td>\n",
       "    </tr>\n",
       "    <tr>\n",
       "      <th>2</th>\n",
       "      <td>Armenia</td>\n",
       "      <td>24389.028250</td>\n",
       "      <td>5990.512959</td>\n",
       "      <td>9155.783080</td>\n",
       "      <td>10422.041170</td>\n",
       "    </tr>\n",
       "    <tr>\n",
       "      <th>3</th>\n",
       "      <td>Antigua and Barbuda</td>\n",
       "      <td>358.408496</td>\n",
       "      <td>584.648482</td>\n",
       "      <td>1085.816188</td>\n",
       "      <td>1203.631334</td>\n",
       "    </tr>\n",
       "  </tbody>\n",
       "</table>\n",
       "</div>"
      ],
      "text/plain": [
       "          Country Name  1990 [YR1990]  2000 [YR2000]  2015 [YR2015]  \\\n",
       "0              Albania   11181.074270    8163.977582    9408.765344   \n",
       "2              Armenia   24389.028250    5990.512959    9155.783080   \n",
       "3  Antigua and Barbuda     358.408496     584.648482    1085.816188   \n",
       "\n",
       "   2020 [YR2020]  \n",
       "0    8304.294940  \n",
       "2   10422.041170  \n",
       "3    1203.631334  "
      ]
     },
     "execution_count": 105,
     "metadata": {},
     "output_type": "execute_result"
    }
   ],
   "source": [
    "df"
   ]
  },
  {
   "cell_type": "code",
   "execution_count": 113,
   "metadata": {},
   "outputs": [
    {
     "data": {
      "image/png": "[encoded data removed]",
      "text/plain": [
       "<Figure size 1200x800 with 1 Axes>"
      ]
     },
     "metadata": {},
     "output_type": "display_data"
    }
   ],
   "source": [
    "import numpy as np\n",
    "import matplotlib.pyplot as plt\n",
    "\n",
    "# Assuming df_transposed is your transposed DataFrame\n",
    "# If it's not, replace df_transposed with your actual DataFrame\n",
    "\n",
    "# Extract the country names and years from the DataFrame\n",
    "countries = df_transposed.columns.tolist()\n",
    "years = df_transposed.index.tolist()\n",
    "\n",
    "# set width of bar\n",
    "barWidth = 0.10\n",
    "fig = plt.subplots(figsize=(12, 8))\n",
    "\n",
    "# Set position of bar on X axis\n",
    "br1 = np.arange(len(countries))\n",
    "br2 = [x + barWidth for x in br1]\n",
    "br3 = [x + barWidth for x in br2]\n",
    "\n",
    "# Make the plot\n",
    "for idx, year in enumerate(years):\n",
    "    plt.bar(br1 + idx * barWidth, df_transposed.loc[year], width=barWidth, edgecolor='grey', label=year)\n",
    "\n",
    "# Adding Xticks\n",
    "plt.xlabel('Country', fontweight='bold', fontsize=15)\n",
    "plt.ylabel('Indicator Value', fontweight='bold', fontsize=15)\n",
    "plt.xticks([r + barWidth for r in range(len(countries))], countries, rotation=45, ha='right')\n",
    "plt.legend()\n",
    "plt.show()\n"
   ]
  }
 ],
 "metadata": {
  "kernelspec": {
   "display_name": "Python 3",
   "language": "python",
   "name": "python3"
  },
  "language_info": {
   "codemirror_mode": {
    "name": "ipython",
    "version": 3
   },
   "file_extension": ".py",
   "mimetype": "text/x-python",
   "name": "python",
   "nbconvert_exporter": "python",
   "pygments_lexer": "ipython3",
   "version": "3.10.5"
  }
 },
 "nbformat": 4,
 "nbformat_minor": 2
}
