{
 "cells": [
  {
   "cell_type": "code",
   "execution_count": 8,
   "metadata": {},
   "outputs": [
    {
     "name": "stdout",
     "output_type": "stream",
     "text": [
      "Selected Rows from File 1 Saved to: a_c_f_g_1.csv\n",
      "Selected Rows from File 2 Saved to: a_c_f_g_2.csv\n",
      "Selected Rows from File 3 Saved to: a_c_f_g_3.csv\n",
      "Selected Rows from File 4 Saved to: a_c_f_g_4.csv\n"
     ]
    }
   ],
   "source": [
    "import pandas as pd\n",
    "\n",
    "# List of file names\n",
    "file_names = ['forest_land.csv','arable_land.csv', 'GDP.csv', 'CO2.csv']  # Add your file names\n",
    "\n",
    "# Read the data from each file\n",
    "dfs = [pd.read_csv(file, encoding='latin-1') for file in file_names]\n",
    "\n",
    "# Determine the random indices (common for all files)\n",
    "random_indices = dfs[0]['Country Name'].sample(10).index\n",
    "\n",
    "# Save selected rows from each file into different output files\n",
    "for i, df in enumerate(dfs):\n",
    "    selected_rows = df.loc[random_indices]\n",
    "    output_file = f'a_c_f_g_{i + 1}.csv'  # Unique output file name\n",
    "    selected_rows.to_csv(output_file, index=False)\n",
    "    print(f\"Selected Rows from File {i + 1} Saved to: {output_file}\")\n"
   ]
  },
  {
   "cell_type": "code",
   "execution_count": 6,
   "metadata": {},
   "outputs": [],
   "source": []
  }
 ],
 "metadata": {
  "kernelspec": {
   "display_name": "Python 3",
   "language": "python",
   "name": "python3"
  },
  "language_info": {
   "codemirror_mode": {
    "name": "ipython",
    "version": 3
   },
   "file_extension": ".py",
   "mimetype": "text/x-python",
   "name": "python",
   "nbconvert_exporter": "python",
   "pygments_lexer": "ipython3",
   "version": "3.10.5"
  }
 },
 "nbformat": 4,
 "nbformat_minor": 2
}
