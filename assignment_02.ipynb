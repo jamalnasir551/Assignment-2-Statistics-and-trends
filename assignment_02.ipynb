{
 "cells": [
  {
   "cell_type": "code",
   "execution_count": 50,
   "metadata": {},
   "outputs": [
    {
     "name": "stdout",
     "output_type": "stream",
     "text": [
      "Selected Rows from File 1 Saved to: forest_land.csv\n",
      "Selected Rows from File 2 Saved to: arable_land.csv\n",
      "Selected Rows from File 3 Saved to: GDP.csv\n",
      "Selected Rows from File 4 Saved to: CO2.csv\n"
     ]
    }
   ],
   "source": [
    "import pandas as pd\n",
    "\n",
    "# List of file names\n",
    "file_names = ['forest_land.csv','arable_land.csv', 'GDP.csv', 'CO2.csv']  # Add your file names\n",
    "\n",
    "# Read the data from each file\n",
    "dfs = [pd.read_csv(file, encoding='latin-1') for file in file_names]\n",
    "\n",
    "# Determine the random indices (common for all files)\n",
    "random_indices = dfs[0]['Country Name'].sample(10).index\n",
    "\n",
    "# Save selected rows from each file into different output files\n",
    "x = 0\n",
    "for i, df in enumerate(dfs) :\n",
    "    \n",
    "    selected_rows = df.loc[random_indices]\n",
    "    a = file_names[x]\n",
    "    output_file = f'{a}'  # Unique output file name\n",
    "    selected_rows.to_csv(output_file, index=False)\n",
    "    print(f\"Selected Rows from File {i + 1} Saved to: {output_file}\")\n",
    "    x= x+1\n"
   ]
  },
  {
   "cell_type": "code",
   "execution_count": 51,
   "metadata": {},
   "outputs": [
    {
     "data": {
      "text/plain": [
       "['Equatorial Guinea',\n",
       " 'Myanmar',\n",
       " 'Uganda',\n",
       " 'Burundi',\n",
       " 'Sierra Leone',\n",
       " 'Middle East & North Africa (IDA & IBRD countries)',\n",
       " 'Kiribati',\n",
       " nan,\n",
       " 'St. Martin (French part)',\n",
       " 'Maldives']"
      ]
     },
     "execution_count": 51,
     "metadata": {},
     "output_type": "execute_result"
    }
   ],
   "source": [
    "a = dfs[0]['Country Name'].sample(10)\n",
    "country_name = []\n",
    "for name in a:\n",
    "    country_name.append(name)\n",
    "\n",
    "country_name"
   ]
  },
  {
   "cell_type": "code",
   "execution_count": 52,
   "metadata": {},
   "outputs": [
    {
     "ename": "KeyError",
     "evalue": "\"None of [Index([                                'Equatorial Guinea',\\n                                                 'Myanmar',\\n                                                  'Uganda',\\n                                                 'Burundi',\\n                                            'Sierra Leone',\\n       'Middle East & North Africa (IDA & IBRD countries)',\\n                                                'Kiribati',\\n                                                       nan,\\n                                'St. Martin (French part)',\\n                                                'Maldives'],\\n      dtype='object')] are in the [index]\"",
     "output_type": "error",
     "traceback": [
      "\u001b[1;31m---------------------------------------------------------------------------\u001b[0m",
      "\u001b[1;31mKeyError\u001b[0m                                  Traceback (most recent call last)",
      "\u001b[1;32mc:\\Users\\Afnan Qaim\\Desktop\\assignment_2\\assignment_02.ipynb Cell 3\u001b[0m line \u001b[0;36m1\n\u001b[0;32m     <a href='vscode-notebook-cell:/c%3A/Users/Afnan%20Qaim/Desktop/assignment_2/assignment_02.ipynb#W1sZmlsZQ%3D%3D?line=15'>16</a>\u001b[0m \u001b[39m# Example: Statistical properties and summary statistics\u001b[39;00m\n\u001b[0;32m     <a href='vscode-notebook-cell:/c%3A/Users/Afnan%20Qaim/Desktop/assignment_2/assignment_02.ipynb#W1sZmlsZQ%3D%3D?line=17'>18</a>\u001b[0m selected_countries \u001b[39m=\u001b[39m  country_name\n\u001b[1;32m---> <a href='vscode-notebook-cell:/c%3A/Users/Afnan%20Qaim/Desktop/assignment_2/assignment_02.ipynb#W1sZmlsZQ%3D%3D?line=18'>19</a>\u001b[0m selected_forest_land \u001b[39m=\u001b[39m transposed_forest_land\u001b[39m.\u001b[39;49mloc[selected_countries]\n\u001b[0;32m     <a href='vscode-notebook-cell:/c%3A/Users/Afnan%20Qaim/Desktop/assignment_2/assignment_02.ipynb#W1sZmlsZQ%3D%3D?line=19'>20</a>\u001b[0m selected_arable_land \u001b[39m=\u001b[39m transposed_arable_land\u001b[39m.\u001b[39mloc[selected_countries]\n\u001b[0;32m     <a href='vscode-notebook-cell:/c%3A/Users/Afnan%20Qaim/Desktop/assignment_2/assignment_02.ipynb#W1sZmlsZQ%3D%3D?line=20'>21</a>\u001b[0m selected_GDP \u001b[39m=\u001b[39m transposed_GDP\u001b[39m.\u001b[39mloc[selected_countries]\n",
      "File \u001b[1;32mc:\\Users\\Afnan Qaim\\AppData\\Local\\Programs\\Python\\Python310\\lib\\site-packages\\pandas\\core\\indexing.py:1153\u001b[0m, in \u001b[0;36m_LocationIndexer.__getitem__\u001b[1;34m(self, key)\u001b[0m\n\u001b[0;32m   1150\u001b[0m axis \u001b[39m=\u001b[39m \u001b[39mself\u001b[39m\u001b[39m.\u001b[39maxis \u001b[39mor\u001b[39;00m \u001b[39m0\u001b[39m\n\u001b[0;32m   1152\u001b[0m maybe_callable \u001b[39m=\u001b[39m com\u001b[39m.\u001b[39mapply_if_callable(key, \u001b[39mself\u001b[39m\u001b[39m.\u001b[39mobj)\n\u001b[1;32m-> 1153\u001b[0m \u001b[39mreturn\u001b[39;00m \u001b[39mself\u001b[39;49m\u001b[39m.\u001b[39;49m_getitem_axis(maybe_callable, axis\u001b[39m=\u001b[39;49maxis)\n",
      "File \u001b[1;32mc:\\Users\\Afnan Qaim\\AppData\\Local\\Programs\\Python\\Python310\\lib\\site-packages\\pandas\\core\\indexing.py:1382\u001b[0m, in \u001b[0;36m_LocIndexer._getitem_axis\u001b[1;34m(self, key, axis)\u001b[0m\n\u001b[0;32m   1379\u001b[0m     \u001b[39mif\u001b[39;00m \u001b[39mhasattr\u001b[39m(key, \u001b[39m\"\u001b[39m\u001b[39mndim\u001b[39m\u001b[39m\"\u001b[39m) \u001b[39mand\u001b[39;00m key\u001b[39m.\u001b[39mndim \u001b[39m>\u001b[39m \u001b[39m1\u001b[39m:\n\u001b[0;32m   1380\u001b[0m         \u001b[39mraise\u001b[39;00m \u001b[39mValueError\u001b[39;00m(\u001b[39m\"\u001b[39m\u001b[39mCannot index with multidimensional key\u001b[39m\u001b[39m\"\u001b[39m)\n\u001b[1;32m-> 1382\u001b[0m     \u001b[39mreturn\u001b[39;00m \u001b[39mself\u001b[39;49m\u001b[39m.\u001b[39;49m_getitem_iterable(key, axis\u001b[39m=\u001b[39;49maxis)\n\u001b[0;32m   1384\u001b[0m \u001b[39m# nested tuple slicing\u001b[39;00m\n\u001b[0;32m   1385\u001b[0m \u001b[39mif\u001b[39;00m is_nested_tuple(key, labels):\n",
      "File \u001b[1;32mc:\\Users\\Afnan Qaim\\AppData\\Local\\Programs\\Python\\Python310\\lib\\site-packages\\pandas\\core\\indexing.py:1322\u001b[0m, in \u001b[0;36m_LocIndexer._getitem_iterable\u001b[1;34m(self, key, axis)\u001b[0m\n\u001b[0;32m   1319\u001b[0m \u001b[39mself\u001b[39m\u001b[39m.\u001b[39m_validate_key(key, axis)\n\u001b[0;32m   1321\u001b[0m \u001b[39m# A collection of keys\u001b[39;00m\n\u001b[1;32m-> 1322\u001b[0m keyarr, indexer \u001b[39m=\u001b[39m \u001b[39mself\u001b[39;49m\u001b[39m.\u001b[39;49m_get_listlike_indexer(key, axis)\n\u001b[0;32m   1323\u001b[0m \u001b[39mreturn\u001b[39;00m \u001b[39mself\u001b[39m\u001b[39m.\u001b[39mobj\u001b[39m.\u001b[39m_reindex_with_indexers(\n\u001b[0;32m   1324\u001b[0m     {axis: [keyarr, indexer]}, copy\u001b[39m=\u001b[39m\u001b[39mTrue\u001b[39;00m, allow_dups\u001b[39m=\u001b[39m\u001b[39mTrue\u001b[39;00m\n\u001b[0;32m   1325\u001b[0m )\n",
      "File \u001b[1;32mc:\\Users\\Afnan Qaim\\AppData\\Local\\Programs\\Python\\Python310\\lib\\site-packages\\pandas\\core\\indexing.py:1520\u001b[0m, in \u001b[0;36m_LocIndexer._get_listlike_indexer\u001b[1;34m(self, key, axis)\u001b[0m\n\u001b[0;32m   1517\u001b[0m ax \u001b[39m=\u001b[39m \u001b[39mself\u001b[39m\u001b[39m.\u001b[39mobj\u001b[39m.\u001b[39m_get_axis(axis)\n\u001b[0;32m   1518\u001b[0m axis_name \u001b[39m=\u001b[39m \u001b[39mself\u001b[39m\u001b[39m.\u001b[39mobj\u001b[39m.\u001b[39m_get_axis_name(axis)\n\u001b[1;32m-> 1520\u001b[0m keyarr, indexer \u001b[39m=\u001b[39m ax\u001b[39m.\u001b[39;49m_get_indexer_strict(key, axis_name)\n\u001b[0;32m   1522\u001b[0m \u001b[39mreturn\u001b[39;00m keyarr, indexer\n",
      "File \u001b[1;32mc:\\Users\\Afnan Qaim\\AppData\\Local\\Programs\\Python\\Python310\\lib\\site-packages\\pandas\\core\\indexes\\base.py:6114\u001b[0m, in \u001b[0;36mIndex._get_indexer_strict\u001b[1;34m(self, key, axis_name)\u001b[0m\n\u001b[0;32m   6111\u001b[0m \u001b[39melse\u001b[39;00m:\n\u001b[0;32m   6112\u001b[0m     keyarr, indexer, new_indexer \u001b[39m=\u001b[39m \u001b[39mself\u001b[39m\u001b[39m.\u001b[39m_reindex_non_unique(keyarr)\n\u001b[1;32m-> 6114\u001b[0m \u001b[39mself\u001b[39;49m\u001b[39m.\u001b[39;49m_raise_if_missing(keyarr, indexer, axis_name)\n\u001b[0;32m   6116\u001b[0m keyarr \u001b[39m=\u001b[39m \u001b[39mself\u001b[39m\u001b[39m.\u001b[39mtake(indexer)\n\u001b[0;32m   6117\u001b[0m \u001b[39mif\u001b[39;00m \u001b[39misinstance\u001b[39m(key, Index):\n\u001b[0;32m   6118\u001b[0m     \u001b[39m# GH 42790 - Preserve name from an Index\u001b[39;00m\n",
      "File \u001b[1;32mc:\\Users\\Afnan Qaim\\AppData\\Local\\Programs\\Python\\Python310\\lib\\site-packages\\pandas\\core\\indexes\\base.py:6175\u001b[0m, in \u001b[0;36mIndex._raise_if_missing\u001b[1;34m(self, key, indexer, axis_name)\u001b[0m\n\u001b[0;32m   6173\u001b[0m     \u001b[39mif\u001b[39;00m use_interval_msg:\n\u001b[0;32m   6174\u001b[0m         key \u001b[39m=\u001b[39m \u001b[39mlist\u001b[39m(key)\n\u001b[1;32m-> 6175\u001b[0m     \u001b[39mraise\u001b[39;00m \u001b[39mKeyError\u001b[39;00m(\u001b[39mf\u001b[39m\u001b[39m\"\u001b[39m\u001b[39mNone of [\u001b[39m\u001b[39m{\u001b[39;00mkey\u001b[39m}\u001b[39;00m\u001b[39m] are in the [\u001b[39m\u001b[39m{\u001b[39;00maxis_name\u001b[39m}\u001b[39;00m\u001b[39m]\u001b[39m\u001b[39m\"\u001b[39m)\n\u001b[0;32m   6177\u001b[0m not_found \u001b[39m=\u001b[39m \u001b[39mlist\u001b[39m(ensure_index(key)[missing_mask\u001b[39m.\u001b[39mnonzero()[\u001b[39m0\u001b[39m]]\u001b[39m.\u001b[39munique())\n\u001b[0;32m   6178\u001b[0m \u001b[39mraise\u001b[39;00m \u001b[39mKeyError\u001b[39;00m(\u001b[39mf\u001b[39m\u001b[39m\"\u001b[39m\u001b[39m{\u001b[39;00mnot_found\u001b[39m}\u001b[39;00m\u001b[39m not in index\u001b[39m\u001b[39m\"\u001b[39m)\n",
      "\u001b[1;31mKeyError\u001b[0m: \"None of [Index([                                'Equatorial Guinea',\\n                                                 'Myanmar',\\n                                                  'Uganda',\\n                                                 'Burundi',\\n                                            'Sierra Leone',\\n       'Middle East & North Africa (IDA & IBRD countries)',\\n                                                'Kiribati',\\n                                                       nan,\\n                                'St. Martin (French part)',\\n                                                'Maldives'],\\n      dtype='object')] are in the [index]\""
     ]
    }
   ],
   "source": [
    "import pandas as pd\n",
    "import matplotlib.pyplot as plt\n",
    "\n",
    "# Function to read and transpose World Bank data\n",
    "def read_and_transpose(filename):\n",
    "    df = pd.read_csv(filename, encoding='latin-1')  # Adjust encoding if needed\n",
    "    transposed_df = df.set_index('Country Name').transpose()\n",
    "    return df, transposed_df\n",
    "\n",
    "# Read and transpose each file\n",
    "forest_land, transposed_forest_land = read_and_transpose('forest_land.csv')\n",
    "arable_land, transposed_arable_land = read_and_transpose('arable_land.csv')\n",
    "GDP, transposed_GDP = read_and_transpose('GDP.csv')\n",
    "CO2, transposed_CO2 = read_and_transpose('CO2.csv')\n",
    "\n",
    "# Example: Statistical properties and summary statistics\n",
    "\n",
    "selected_countries =  country_name\n",
    "selected_forest_land = transposed_forest_land.loc[selected_countries]\n",
    "selected_arable_land = transposed_arable_land.loc[selected_countries]\n",
    "selected_GDP = transposed_GDP.loc[selected_countries]\n",
    "selected_CO2 = transposed_CO2.loc[selected_countries]\n",
    "\n",
    "# Use .describe() and other statistical methods for analysis\n",
    "\n",
    "# Example: Visualization\n",
    "plt.figure(figsize=(12, 6))\n",
    "\n",
    "# Plot forest land\n",
    "plt.subplot(2, 2, 1)\n",
    "selected_forest_land.plot(kind='line')\n",
    "plt.title('Forest Land Over Time')\n",
    "plt.xlabel('Years')\n",
    "plt.ylabel('Land Area (hectares)')\n",
    "\n",
    "# Plot arable land\n",
    "plt.subplot(2, 2, 2)\n",
    "selected_arable_land.plot(kind='line')\n",
    "plt.title('Arable Land Over Time')\n",
    "plt.xlabel('Years')\n",
    "plt.ylabel('Land Area (hectares)')\n",
    "\n",
    "# Plot GDP\n",
    "plt.subplot(2, 2, 3)\n",
    "selected_GDP.plot(kind='line')\n",
    "plt.title('GDP Over Time')\n",
    "plt.xlabel('Years')\n",
    "plt.ylabel('GDP')\n",
    "\n",
    "# Plot CO2\n",
    "plt.subplot(2, 2, 4)\n",
    "selected_CO2.plot(kind='line')\n",
    "plt.title('CO2 Emission Over Time')\n",
    "plt.xlabel('Years')\n",
    "plt.ylabel('CO2 Emission (metric tons)')\n",
    "\n",
    "plt.tight_layout()\n",
    "plt.show()\n"
   ]
  },
  {
   "cell_type": "code",
   "execution_count": null,
   "metadata": {},
   "outputs": [],
   "source": []
  }
 ],
 "metadata": {
  "kernelspec": {
   "display_name": "Python 3",
   "language": "python",
   "name": "python3"
  },
  "language_info": {
   "codemirror_mode": {
    "name": "ipython",
    "version": 3
   },
   "file_extension": ".py",
   "mimetype": "text/x-python",
   "name": "python",
   "nbconvert_exporter": "python",
   "pygments_lexer": "ipython3",
   "version": "3.10.5"
  }
 },
 "nbformat": 4,
 "nbformat_minor": 2
}
